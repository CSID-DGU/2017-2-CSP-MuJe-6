{
 "cells": [
  {
   "cell_type": "code",
   "execution_count": 2,
   "metadata": {
    "collapsed": true
   },
   "outputs": [],
   "source": [
    "import numpy as np\n",
    "import cv2"
   ]
  },
  {
   "cell_type": "code",
   "execution_count": 3,
   "metadata": {},
   "outputs": [
    {
     "data": {
      "text/plain": [
       "'c:\\\\cv\\\\opencv\\\\Scripts\\\\local_repo\\\\2017-2-CSP-MuJe-6\\\\OpenCV Tutorial'"
      ]
     },
     "execution_count": 3,
     "metadata": {},
     "output_type": "execute_result"
    }
   ],
   "source": [
    "import os\n",
    "os.getcwd()"
   ]
  },
  {
   "cell_type": "markdown",
   "metadata": {},
   "source": [
    "감지 후 네모 그려주는 함수 - 여기서 padding 값은 실제 디텍션모다 ***크게*** 만들어줌"
   ]
  },
  {
   "cell_type": "code",
   "execution_count": 4,
   "metadata": {
    "collapsed": true
   },
   "outputs": [],
   "source": [
    "def draw_detections(img, rects, thickness = 1):\n",
    "    \n",
    "    for x, y, w, h in rects: # Classifier의 리턴 값 rect는 좌표 2개 형식임 -> [ (2, 3) , (3, 4) ]\n",
    "\n",
    "        pad_w, pad_h = int(0.15*w), int(0.05*h) # 여기서 패딩 값 조정\n",
    "        \n",
    "        cv2.rectangle(img, (x+pad_w, y+pad_h), (x+w-pad_w, y+h-pad_h), (0, 255, 0), thickness)\n",
    "        # 이미지는 상단 좌측에서부터 (0,0)에서 시작하므로 "
   ]
  },
  {
   "cell_type": "markdown",
   "metadata": {},
   "source": [
    "여기가 (pre-training된) 캐스케이드 필터  디렉토리"
   ]
  },
  {
   "cell_type": "code",
   "execution_count": 5,
   "metadata": {
    "collapsed": true
   },
   "outputs": [],
   "source": [
    "cascade_path = \"C:\\\\cv\\\\Haar Cascades models (XML)\\\\\""
   ]
  },
  {
   "cell_type": "code",
   "execution_count": 7,
   "metadata": {},
   "outputs": [],
   "source": [
    "face_cascade = cv2.CascadeClassifier(cascade_path + 'haarcascade_frontalface_default.xml')\n",
    "upper_cascade = cv2.CascadeClassifier(cascade_path + 'Head & Shoulders.xml')\n",
    "\n",
    "cap=cv2.VideoCapture(0)\n",
    "\n",
    "while cap.isOpened():\n",
    "    _, frame = cap.read()\n",
    "    gray = cv2.cvtColor(frame, cv2.COLOR_BGR2GRAY); \n",
    "\n",
    "    \n",
    "    # Detect Face\n",
    "#     face = face_cascade.detectMultiScale(gray, 1.3, 5)\n",
    "#     draw_detections(frame,face)\n",
    "    \n",
    "    # Detect Upper body\n",
    "    upper_body = upper_cascade.detectMultiScale(gray, 1.3, 5)\n",
    "    draw_detections(frame,upper_body)\n",
    "    \n",
    "    \n",
    "    cv2.imshow('img', frame)\n",
    "    \n",
    "# \"Q\" to exit & release cap    \n",
    "    ch = 0xFF & cv2.waitKey(1)\n",
    "    if ch == 27:\n",
    "        cap.release()\n",
    "        break\n",
    "cv2.destroyAllWindows()\n"
   ]
  },
  {
   "cell_type": "code",
   "execution_count": 32,
   "metadata": {
    "collapsed": true
   },
   "outputs": [],
   "source": [
    "cap.release()"
   ]
  }
 ],
 "metadata": {
  "kernelspec": {
   "display_name": "Python 3",
   "language": "python",
   "name": "python3"
  },
  "language_info": {
   "codemirror_mode": {
    "name": "ipython",
    "version": 3
   },
   "file_extension": ".py",
   "mimetype": "text/x-python",
   "name": "python",
   "nbconvert_exporter": "python",
   "pygments_lexer": "ipython3",
   "version": "3.6.2"
  }
 },
 "nbformat": 4,
 "nbformat_minor": 2
}
