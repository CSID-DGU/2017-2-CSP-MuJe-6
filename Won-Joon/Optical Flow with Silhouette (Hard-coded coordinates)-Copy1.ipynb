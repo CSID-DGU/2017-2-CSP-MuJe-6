{
 "cells": [
  {
   "cell_type": "markdown",
   "metadata": {},
   "source": [
    "# Human Silhouette & Coordinate-based Tracking\n",
    "- Sillhouette can be manually resized \n",
    "- To make sure silhouette fits within the screen, be sure to modify values<br> **move_x_by, move_y_by** too \n",
    "- Optical flow is given manual coordinates for hand"
   ]
  },
  {
   "cell_type": "code",
   "execution_count": 6,
   "metadata": {
    "collapsed": true
   },
   "outputs": [],
   "source": [
    "import cv2\n",
    "import numpy as np"
   ]
  },
  {
   "cell_type": "code",
   "execution_count": 7,
   "metadata": {
    "collapsed": true
   },
   "outputs": [],
   "source": [
    "def show_img(img):\n",
    "    cv2.imshow('img', img)\n",
    "    cv2.waitKey(0)\n",
    "    cv2.destroyAllWindows()"
   ]
  },
  {
   "cell_type": "markdown",
   "metadata": {},
   "source": [
    "Get image and generate inverted mask of the image"
   ]
  },
  {
   "cell_type": "code",
   "execution_count": 8,
   "metadata": {},
   "outputs": [
    {
     "data": {
      "text/plain": [
       "'c:\\\\cv\\\\opencv\\\\Scripts\\\\local_repo\\\\2017-2-CSP-MuJe-6\\\\Won-Joon'"
      ]
     },
     "execution_count": 8,
     "metadata": {},
     "output_type": "execute_result"
    }
   ],
   "source": [
    "import os\n",
    "os.getcwd()"
   ]
  },
  {
   "cell_type": "markdown",
   "metadata": {},
   "source": [
    "### Load image & Create mask"
   ]
  },
  {
   "cell_type": "code",
   "execution_count": 9,
   "metadata": {
    "collapsed": true
   },
   "outputs": [],
   "source": [
    "# Read images\n",
    "img1 = cv2.imread(os.getcwd()+\"\\\\Images\\\\\"+ \"Silhouette.png\")\n",
    "# img2 = cv2.imread(os.getcwd()+\"\\\\Images\\\\\"+ \"Silhouette (480 x 640).png\") # not used!\n",
    "\n",
    "\n",
    "# Frame is 640 x 480, resize img by 1/3\n",
    "#resize_factor = 1.8\n",
    "img2gray = cv2.cvtColor(img1, cv2.COLOR_BGR2GRAY)\n",
    "img2gray = cv2.resize(img2gray, (int(480/1.8), int(640/1.4)))\n",
    "\n",
    "\n",
    "\n",
    "# create mask from silhoutte\n",
    "ret, mask = cv2.threshold(img2gray, 230, 255, cv2.THRESH_BINARY)\n",
    "mask_inv = cv2.bitwise_not(mask)\n",
    "\n",
    "# show_img(img2gray)\n",
    "# show_img(mask_inv)"
   ]
  },
  {
   "cell_type": "markdown",
   "metadata": {},
   "source": [
    "### Sparse Optical Flow settings"
   ]
  },
  {
   "cell_type": "code",
   "execution_count": 10,
   "metadata": {},
   "outputs": [],
   "source": [
    "# ShiTomasi corner detection parameters\n",
    "feature_params = dict( maxCorners = 100,\n",
    "                       qualityLevel = 0.3,\n",
    "                       minDistance = 7,\n",
    "                       blockSize = 7 )\n",
    "# Lucas Kanade optical flow parameters\n",
    "lk_params = dict( winSize  = (15,15),\n",
    "                  maxLevel = 2,\n",
    "                  criteria = (cv2.TERM_CRITERIA_EPS | cv2.TERM_CRITERIA_COUNT, 10, 0.03))\n",
    "# Random colors\n",
    "color = np.random.randint(0,255,(100,3))"
   ]
  },
  {
   "cell_type": "markdown",
   "metadata": {},
   "source": [
    "### Take first frame & assign features"
   ]
  },
  {
   "cell_type": "code",
   "execution_count": 117,
   "metadata": {},
   "outputs": [],
   "source": [
    "def make_features_xy(x, x2, y, y2):\n",
    "    return [ [list(item)] for item in zip(list(range(x, x2)), list(range(y, y2)))]"
   ]
  },
  {
   "cell_type": "code",
   "execution_count": 128,
   "metadata": {},
   "outputs": [],
   "source": [
    "test_list = make_features_xy(100, 120, 100, 120)"
   ]
  },
  {
   "cell_type": "code",
   "execution_count": 129,
   "metadata": {},
   "outputs": [
    {
     "data": {
      "text/plain": [
       "[[[100, 100]],\n",
       " [[101, 101]],\n",
       " [[102, 102]],\n",
       " [[103, 103]],\n",
       " [[104, 104]],\n",
       " [[105, 105]],\n",
       " [[106, 106]],\n",
       " [[107, 107]],\n",
       " [[108, 108]],\n",
       " [[109, 109]],\n",
       " [[110, 110]],\n",
       " [[111, 111]],\n",
       " [[112, 112]],\n",
       " [[113, 113]],\n",
       " [[114, 114]],\n",
       " [[115, 115]],\n",
       " [[116, 116]],\n",
       " [[117, 117]],\n",
       " [[118, 118]],\n",
       " [[119, 119]]]"
      ]
     },
     "execution_count": 129,
     "metadata": {},
     "output_type": "execute_result"
    }
   ],
   "source": [
    "test_list"
   ]
  },
  {
   "cell_type": "code",
   "execution_count": 134,
   "metadata": {},
   "outputs": [
    {
     "ename": "error",
     "evalue": "C:\\projects\\opencv-python\\opencv\\modules\\imgproc\\src\\color.cpp:10638: error: (-215) scn == 3 || scn == 4 in function cv::cvtColor\n",
     "output_type": "error",
     "traceback": [
      "\u001b[1;31m---------------------------------------------------------------------------\u001b[0m",
      "\u001b[1;31merror\u001b[0m                                     Traceback (most recent call last)",
      "\u001b[1;32m<ipython-input-134-6a2d655ac4d8>\u001b[0m in \u001b[0;36m<module>\u001b[1;34m()\u001b[0m\n\u001b[0;32m      6\u001b[0m \u001b[1;31m# Take first frame and find corners in it\u001b[0m\u001b[1;33m\u001b[0m\u001b[1;33m\u001b[0m\u001b[0m\n\u001b[0;32m      7\u001b[0m \u001b[0mret\u001b[0m\u001b[1;33m,\u001b[0m \u001b[0mold_frame\u001b[0m \u001b[1;33m=\u001b[0m \u001b[0mcap\u001b[0m\u001b[1;33m.\u001b[0m\u001b[0mread\u001b[0m\u001b[1;33m(\u001b[0m\u001b[1;33m)\u001b[0m\u001b[1;33m\u001b[0m\u001b[0m\n\u001b[1;32m----> 8\u001b[1;33m \u001b[0mold_frame_gray\u001b[0m \u001b[1;33m=\u001b[0m \u001b[0mcv2\u001b[0m\u001b[1;33m.\u001b[0m\u001b[0mcvtColor\u001b[0m\u001b[1;33m(\u001b[0m\u001b[0mold_frame\u001b[0m\u001b[1;33m,\u001b[0m \u001b[0mcv2\u001b[0m\u001b[1;33m.\u001b[0m\u001b[0mCOLOR_BGR2GRAY\u001b[0m\u001b[1;33m)\u001b[0m\u001b[1;33m\u001b[0m\u001b[0m\n\u001b[0m\u001b[0;32m      9\u001b[0m \u001b[0mp0\u001b[0m \u001b[1;33m=\u001b[0m \u001b[1;33m[\u001b[0m\u001b[1;33m[\u001b[0m\u001b[1;36m100\u001b[0m\u001b[1;33m,\u001b[0m \u001b[1;36m100\u001b[0m\u001b[1;33m]\u001b[0m\u001b[1;33m]\u001b[0m\u001b[1;33m\u001b[0m\u001b[0m\n\u001b[0;32m     10\u001b[0m \u001b[1;33m\u001b[0m\u001b[0m\n",
      "\u001b[1;31merror\u001b[0m: C:\\projects\\opencv-python\\opencv\\modules\\imgproc\\src\\color.cpp:10638: error: (-215) scn == 3 || scn == 4 in function cv::cvtColor\n"
     ]
    }
   ],
   "source": [
    "# Parameters for displaying silhouette \n",
    "y, x = img2gray.shape\n",
    "move_y_by = 20\n",
    "move_x_by = 200\n",
    "\n",
    "# Take first frame and find corners in it\n",
    "ret, old_frame = cap.read()\n",
    "old_frame_gray = cv2.cvtColor(old_frame, cv2.COLOR_BGR2GRAY)\n",
    "p0 = [[100, 100]]\n",
    "\n",
    "# Create a mask image for drawing purposes\n",
    "mask = np.zeros_like(old_frame)\n",
    "\n",
    "\n",
    "cap = cv2.VideoCapture(0)\n",
    "while ( cap.isOpened() ):\n",
    "    _, frame = cap.read()\n",
    "\n",
    "    # Put silhouette on ROI\n",
    "    roi = frame[ move_y_by : y + move_y_by , move_x_by : x + move_x_by ]\n",
    "    bg_roi_withMask = cv2.bitwise_and(roi, roi, mask = mask_inv)\n",
    "    \n",
    "    destination = cv2.add( frame[ move_y_by : y + move_y_by , move_x_by : x + move_x_by ] , bg_roi_withMask)\n",
    "    frame[ move_y_by : y + move_y_by , move_x_by : x + move_x_by ] = destination\n",
    "\n",
    "    \n",
    "    \n",
    "\n",
    "    cv2.imshow('feed', frame)\n",
    "    \n",
    "    ch = 0xFF & cv2.waitKey(1)\n",
    "    if ch == 27:\n",
    "        cap.release()\n",
    "        cv2.destroyAllWindows()\n",
    "        break\n",
    "        "
   ]
  },
  {
   "cell_type": "code",
   "execution_count": 135,
   "metadata": {
    "collapsed": true
   },
   "outputs": [],
   "source": [
    "cap.release()"
   ]
  },
  {
   "cell_type": "markdown",
   "metadata": {},
   "source": [
    "Spare code"
   ]
  },
  {
   "cell_type": "code",
   "execution_count": null,
   "metadata": {
    "collapsed": true
   },
   "outputs": [],
   "source": [
    "# Parameters for displaying silhouette \n",
    "y, x = img2gray.shape\n",
    "move_y_by = 20\n",
    "move_x_by = 200\n",
    "\n",
    "# Take first frame and find corners in it\n",
    "cap = cv2.VideoCapture(0)\n",
    "\n",
    "ret, old_frame = cap.read()\n",
    "old_frame_gray = cv2.cvtColor(old_frame, cv2.COLOR_BGR2GRAY)\n",
    "p0 = np.array(   test_list  , dtype = 'float32' )\n",
    "print(p0.shape)\n",
    "cap.release()\n",
    "\n",
    "# Create a mask image for drawing purposes\n",
    "mask = np.zeros_like(old_frame)\n",
    "\n",
    "\n",
    "cap = cv2.VideoCapture(0)\n",
    "while ( cap.isOpened() ):\n",
    "    _, frame = cap.read()    \n",
    "    \n",
    "    # Part 2:calculate optical flow ##############################\n",
    "    frame_gray = cv2.cvtColor(frame, cv2.COLOR_BGR2GRAY)\n",
    "    p1, st, err = cv2.calcOpticalFlowPyrLK(prevImg = old_gray,\n",
    "                                           nextImg = frame_gray, \n",
    "                                           prevPts = p0, \n",
    "                                           nextPts = None, **lk_params)\n",
    "#    print(\"p1:\", p1)\n",
    "    \n",
    "    # Select good points    \n",
    "    good_new = p1[st==1]\n",
    "    good_old = p0[st==1]\n",
    " #   print(type(good_new))\n",
    " #   print(\"good_new: \", good_new, \"\\n\\n\")\n",
    "    \n",
    "    # draw the tracks\n",
    "    for i,(new,old) in enumerate(zip(good_new, good_old)):\n",
    "        a,b = new.ravel()\n",
    "        c,d = old.ravel()\n",
    "        mask = cv2.line(mask, (a,b),(c,d), color[i].tolist(), 2)\n",
    "        frame = cv2.circle(frame,(a,b),5,color[i].tolist(),-1)\n",
    "    \n",
    "    \n",
    "     # Part 1: Put silhouette on ROI ###########################\n",
    "    roi = frame[ move_y_by : y + move_y_by , move_x_by : x + move_x_by ]\n",
    "    bg_roi_withMask = cv2.bitwise_and(roi, roi, mask = mask_inv)\n",
    "    \n",
    "    destination = cv2.add( frame[ move_y_by : y + move_y_by , move_x_by : x + move_x_by ] , bg_roi_withMask)\n",
    "    frame[ move_y_by : y + move_y_by , move_x_by : x + move_x_by ] = destination\n",
    "\n",
    "\n",
    "    \n",
    "    \n",
    "    cv2.imshow('feed', frame)\n",
    "    ch = 0xFF & cv2.waitKey(1)\n",
    "    if ch == 27:\n",
    "        cap.release()\n",
    "        cv2.destroyAllWindows()\n",
    "        break\n",
    "        "
   ]
  }
 ],
 "metadata": {
  "kernelspec": {
   "display_name": "Python 3",
   "language": "python",
   "name": "python3"
  },
  "language_info": {
   "codemirror_mode": {
    "name": "ipython",
    "version": 3
   },
   "file_extension": ".py",
   "mimetype": "text/x-python",
   "name": "python",
   "nbconvert_exporter": "python",
   "pygments_lexer": "ipython3",
   "version": "3.6.2"
  }
 },
 "nbformat": 4,
 "nbformat_minor": 2
}
