{
 "cells": [
  {
   "cell_type": "code",
   "execution_count": 93,
   "metadata": {
    "collapsed": true
   },
   "outputs": [],
   "source": [
    "import cv2\n",
    "import numpy"
   ]
  },
  {
   "cell_type": "code",
   "execution_count": 94,
   "metadata": {
    "collapsed": true
   },
   "outputs": [],
   "source": [
    "def show_img(img):\n",
    "    cv2.imshow('img', img)\n",
    "    cv2.waitKey(0)\n",
    "    cv2.destroyAllWindows()"
   ]
  },
  {
   "cell_type": "markdown",
   "metadata": {},
   "source": [
    "Get image and generate inverted mask of the image"
   ]
  },
  {
   "cell_type": "code",
   "execution_count": 178,
   "metadata": {},
   "outputs": [],
   "source": [
    "import os\n",
    "\n",
    "# Read images\n",
    "img1 = cv2.imread(os.getcwd()+\"\\\\Images\\\\\"+ \"Silhouette.png\")\n",
    "# img2 = cv2.imread(os.getcwd()+\"\\\\Images\\\\\"+ \"Silhouette (480 x 640).png\") # not used!\n",
    "\n",
    "\n",
    "# Frame is 640 x 480, resize img by 1/3\n",
    "resize_factor = 2\n",
    "img2gray = cv2.cvtColor(img1, cv2.COLOR_BGR2GRAY)\n",
    "img2gray = cv2.resize(img2gray, (int(480/resize_factor), int(640/resize_factor)))\n",
    "\n",
    "\n",
    "\n",
    "# create mask from silhoutte\n",
    "ret, mask = cv2.threshold(img2gray, 230, 255, cv2.THRESH_BINARY)\n",
    "mask_inv = cv2.bitwise_not(mask)\n",
    "\n",
    "show_img(img2gray)\n",
    "show_img(mask_inv)"
   ]
  },
  {
   "cell_type": "code",
   "execution_count": 180,
   "metadata": {},
   "outputs": [],
   "source": [
    "cap = cv2.VideoCapture(0)\n",
    "\n",
    "y, x = img2gray.shape\n",
    "move_y_by = 100\n",
    "move_x_by = 200\n",
    "\n",
    "while ( cap.isOpened() ):\n",
    "    _, frame = cap.read()\n",
    "    roi = frame[ move_y_by : y + move_y_by , move_x_by : x + move_x_by ]\n",
    "    bg_roi_withMask = cv2.bitwise_and(roi, roi, mask = mask_inv)\n",
    "    \n",
    "    destination = cv2.add( frame[ move_y_by : y + move_y_by , move_x_by : x + move_x_by ] , bg_roi_withMask)\n",
    "    frame[ move_y_by : y + move_y_by , move_x_by : x + move_x_by ] = destination\n",
    "    \n",
    "    \n",
    "    cv2.imshow('feed', frame)\n",
    "    \n",
    "    ch = 0xFF & cv2.waitKey(1)\n",
    "    if ch == 27:\n",
    "        cap.release()\n",
    "        cv2.destroyAllWindows()\n",
    "        break\n",
    "        "
   ]
  },
  {
   "cell_type": "code",
   "execution_count": 169,
   "metadata": {
    "collapsed": true
   },
   "outputs": [],
   "source": [
    "cap.release()"
   ]
  },
  {
   "cell_type": "code",
   "execution_count": 76,
   "metadata": {},
   "outputs": [
    {
     "data": {
      "text/plain": [
       "(480, 640, 3)"
      ]
     },
     "execution_count": 76,
     "metadata": {},
     "output_type": "execute_result"
    }
   ],
   "source": [
    "frame.shape"
   ]
  },
  {
   "cell_type": "code",
   "execution_count": null,
   "metadata": {
    "collapsed": true
   },
   "outputs": [],
   "source": []
  }
 ],
 "metadata": {
  "kernelspec": {
   "display_name": "Python 3",
   "language": "python",
   "name": "python3"
  },
  "language_info": {
   "codemirror_mode": {
    "name": "ipython",
    "version": 3
   },
   "file_extension": ".py",
   "mimetype": "text/x-python",
   "name": "python",
   "nbconvert_exporter": "python",
   "pygments_lexer": "ipython3",
   "version": "3.6.2"
  }
 },
 "nbformat": 4,
 "nbformat_minor": 2
}
