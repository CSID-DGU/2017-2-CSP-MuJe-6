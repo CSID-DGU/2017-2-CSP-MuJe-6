{
 "cells": [
  {
   "cell_type": "code",
   "execution_count": 1,
   "metadata": {
    "collapsed": true
   },
   "outputs": [],
   "source": [
    "import cv2\n",
    "# Load two images\n",
    "img1 = cv2.imread('messi5.jpg')\n",
    "img2 = cv2.imread('logo.png')"
   ]
  },
  {
   "cell_type": "code",
   "execution_count": 2,
   "metadata": {
    "collapsed": true
   },
   "outputs": [],
   "source": [
    "# I want to put logo on top-left corner, So I create a ROI\n",
    "rows,cols,channels = img2.shape #로고 \n",
    "roi = img1[0:rows, 0:cols ] #백그라운드에 로고영역 \n",
    "\n",
    "# Now create a mask of logo and create its inverse mask also\n",
    "img2gray = cv2.cvtColor(img2,cv2.COLOR_BGR2GRAY)\n",
    "ret, mask = cv2.threshold(img2gray, 10, 255, cv2.THRESH_BINARY)\n",
    "#mask는 로고 제외한 나머지가 흑 \n",
    "mask_inv = cv2.bitwise_not(mask) #로고가 0 , 검정\n",
    "\n",
    "\n",
    "# Now black-out the area of logo in ROI\n",
    "img1_bg = cv2.bitwise_and(roi,roi,mask = mask_inv) \n",
    "\n",
    "# Take only region of logo from logo image.\n",
    "img2_fg = cv2.bitwise_and(img2,img2,mask = mask)\n",
    "\n",
    "\n",
    "# Put logo in ROI and modify the main image\n",
    "dst = cv2.add(img1_bg,img2_fg)\n",
    "img1[0:rows, 0:cols ] = dst\n",
    "# cv2.imshow('res',img1)\n",
    "# cv2.waitKey(0)\n",
    "# cv2.destroyAllWindows()"
   ]
  },
  {
   "cell_type": "code",
   "execution_count": 35,
   "metadata": {
    "collapsed": true
   },
   "outputs": [],
   "source": [
    "cv2.imshow('nnn', img1)\n",
    "cv2.waitKey(0)\n",
    "cv2.destroyAllWindows()"
   ]
  },
  {
   "cell_type": "code",
   "execution_count": null,
   "metadata": {
    "collapsed": true
   },
   "outputs": [],
   "source": [
    "import numpy as np\n",
    "import cv2\n",
    "\n",
    "\n",
    "def inside(r, q):\n",
    "    rx, ry, rw, rh = r\n",
    "    qx, qy, qw, qh = q\n",
    "    return rx > qx and ry > qy and rx + rw < qx + qw and ry + rh < qy + qh\n",
    "\n",
    "\n",
    "def draw_detections(img, rects, thickness = 1):\n",
    "    for x, y, w, h in rects:\n",
    "        # the HOG detector returns slightly larger rectangles than the real objects.\n",
    "        # so we slightly shrink the rectangles to get a nicer output.\n",
    "        pad_w, pad_h = int(0.15*w), int(0.05*h)\n",
    "        cv2.rectangle(img, (x+pad_w, y+pad_h), (x+w-pad_w, y+h-pad_h), (0, 255, 0), thickness)\n",
    "\n",
    "\n",
    "if __name__ == '__main__':\n",
    "    \n",
    "    #################################\n",
    "    img2 = cv2.imread('suit2.png')\n",
    "    rows,cols,channels = img2.shape   \n",
    "    \n",
    "    \n",
    "    #################################\n",
    "    \n",
    "    hog = cv2.HOGDescriptor()\n",
    "    hog.setSVMDetector( cv2.HOGDescriptor_getDefaultPeopleDetector() )\n",
    "    cap=cv2.VideoCapture(0)\n",
    "    \n",
    "    while True:\n",
    "        _,frame=cap.read()\n",
    "        found,w=hog.detectMultiScale(frame, winStride=(8,8), padding=(32,32), scale=1.05)\n",
    "        draw_detections(frame,found)\n",
    "        \n",
    "        #################################\n",
    "        roi = frame[0:rows, 0:cols ]\n",
    "        \n",
    "        # create mask from logo \n",
    "        img2gray = cv2.cvtColor(img2,cv2.COLOR_BGR2GRAY)\n",
    "        ret, mask = cv2.threshold(img2gray, 5, 255, cv2.THRESH_BINARY)\n",
    "        mask_inv = cv2.bitwise_not(mask)\n",
    "        \n",
    "        # black out the area of logo in ROI\n",
    "        img1_bg = cv2.bitwise_and(roi,roi,mask = mask_inv)\n",
    "        \n",
    "        # Take only region of logo from logo image.\n",
    "        img2_fg = cv2.bitwise_and(img2,img2,mask = mask)\n",
    "        \n",
    "        # Put logo in ROI and modify the main image\n",
    "        dst = cv2.add(img1_bg,img2_fg)\n",
    "        frame[0:rows, 0:cols ] = dst\n",
    "\n",
    "        #################################\n",
    "        \n",
    "        cv2.imshow('feed',frame)\n",
    "        \n",
    "        #edge detection\n",
    "        #edge = cv2.Canny(frame,100,200)\n",
    "        #cv2.imshow('edge',edge)\n",
    "        \n",
    "        ch = 0xFF & cv2.waitKey(1)\n",
    "        if ch == 27:\n",
    "            cap.release()\n",
    "            break\n",
    "            \n",
    "    \n",
    "    cv2.destroyAllWindows()"
   ]
  },
  {
   "cell_type": "code",
   "execution_count": 14,
   "metadata": {
    "collapsed": true
   },
   "outputs": [],
   "source": [
    "cap.release()"
   ]
  }
 ],
 "metadata": {
  "kernelspec": {
   "display_name": "Python 3",
   "language": "python",
   "name": "python3"
  },
  "language_info": {
   "codemirror_mode": {
    "name": "ipython",
    "version": 3
   },
   "file_extension": ".py",
   "mimetype": "text/x-python",
   "name": "python",
   "nbconvert_exporter": "python",
   "pygments_lexer": "ipython3",
   "version": "3.5.3"
  }
 },
 "nbformat": 4,
 "nbformat_minor": 2
}
