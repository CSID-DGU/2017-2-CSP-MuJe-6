{
 "cells": [
  {
   "cell_type": "markdown",
   "metadata": {},
   "source": [
    "# Geometric Transformations of Images\n",
    "---\n",
    "\n",
    "## goals\n",
    "- translation, rotation, affine transformation에 대해 배우자! \n",
    "- 사용할 함수는 cv2.getPerspectiveTransform \n",
    "---\n",
    "\n",
    "## Transformations\n",
    "- cv2.warpAffine : 인풋이 2x3 transformation matrix \n",
    "- cv2.warpPerspective : 인풋이 3x3 transformation matrix \n",
    "\n",
    "\n",
    "### scaling\n",
    "- scaling이란 just resizing of the image\n",
    "- cv2.resize() \n",
    "- cv2.INTER_AREA  for shrinking\n",
    "- cv2.INTER_CUBIC (slow) & cv2.INTER_LINEAR for zooming\n",
    "- 주로 cv2.INTER_LINEAR for all resizing purposes\n",
    "- interpolation 파라미터 변경시 차이는 잘 안타나는듯 (속도의차이)"
   ]
  },
  {
   "cell_type": "code",
   "execution_count": 14,
   "metadata": {},
   "outputs": [],
   "source": [
    "import cv2 \n",
    "import numpy as np \n",
    "\n",
    "img = cv2.imread('messi5.jpg')\n",
    "res = cv2.resize(img, None, fx=1, fy=1, interpolation = cv2.INTER_AREA  )\n",
    "\n",
    "cv2.imshow('image',res)\n",
    "\n",
    "\n",
    "cv2.waitKey(0)\n",
    "cv2.destroyAllWindows()\n"
   ]
  },
  {
   "cell_type": "code",
   "execution_count": 17,
   "metadata": {
    "collapsed": true
   },
   "outputs": [],
   "source": [
    "#OR\n",
    "\n",
    "height, width = img.shape[:2]\n",
    "res = cv2.resize(img,(2*width, 2*height), interpolation = cv2.INTER_CUBIC)\n",
    "\n",
    "cv2.imshow('image',res)\n",
    "cv2.waitKey(0)\n",
    "cv2.destroyAllWindows()"
   ]
  }
 ],
 "metadata": {
  "kernelspec": {
   "display_name": "Python 3",
   "language": "python",
   "name": "python3"
  },
  "language_info": {
   "codemirror_mode": {
    "name": "ipython",
    "version": 3
   },
   "file_extension": ".py",
   "mimetype": "text/x-python",
   "name": "python",
   "nbconvert_exporter": "python",
   "pygments_lexer": "ipython3",
   "version": "3.5.3"
  }
 },
 "nbformat": 4,
 "nbformat_minor": 2
}
