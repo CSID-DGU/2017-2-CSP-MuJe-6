{
 "cells": [
  {
   "cell_type": "code",
   "execution_count": 1,
   "metadata": {
    "collapsed": true
   },
   "outputs": [],
   "source": [
    "import numpy as np\n",
    "import cv2\n",
    "\n",
    "\n",
    "def inside(r, q):\n",
    "    rx, ry, rw, rh = r\n",
    "    qx, qy, qw, qh = q\n",
    "    return rx > qx and ry > qy and rx + rw < qx + qw and ry + rh < qy + qh\n",
    "\n",
    "\n",
    "def draw_detections(img, rects, thickness = 1):\n",
    "    for x, y, w, h in rects:\n",
    "        # the HOG detector returns slightly larger rectangles than the real objects.\n",
    "        # so we slightly shrink the rectangles to get a nicer output.\n",
    "        pad_w, pad_h = int(0.15*w), int(0.05*h)\n",
    "        cv2.rectangle(img, (x+pad_w, y+pad_h), (x+w-pad_w, y+h-pad_h), (0, 255, 0), thickness)\n",
    "\n",
    "\n",
    "if __name__ == '__main__':\n",
    "\n",
    "    hog = cv2.HOGDescriptor()\n",
    "    hog.setSVMDetector( cv2.HOGDescriptor_getDefaultPeopleDetector() )\n",
    "    cap=cv2.VideoCapture(0)\n",
    "    \n",
    "    while True:\n",
    "        _,frame=cap.read()\n",
    "        found,w=hog.detectMultiScale(frame, winStride=(8,8), padding=(32,32), scale=1.05)\n",
    "        draw_detections(frame,found)\n",
    "        \n",
    "        cv2.imshow('feed',frame)\n",
    "        \n",
    "        #edge detection\n",
    "        #edge = cv2.Canny(frame,100,200)\n",
    "        #cv2.imshow('edge',edge)\n",
    "        \n",
    "        ch = 0xFF & cv2.waitKey(1)\n",
    "        if ch == 27:\n",
    "            break\n",
    "    cv2.destroyAllWindows()"
   ]
  },
  {
   "cell_type": "code",
   "execution_count": 1,
   "metadata": {},
   "outputs": [
    {
     "data": {
      "text/plain": [
       "'C:\\\\Users\\\\yunhwan\\\\workspace\\\\Untitled Folder'"
      ]
     },
     "execution_count": 1,
     "metadata": {},
     "output_type": "execute_result"
    }
   ],
   "source": [
    "import os\n",
    "os.getcwd()"
   ]
  }
 ],
 "metadata": {
  "kernelspec": {
   "display_name": "Python 3",
   "language": "python",
   "name": "python3"
  },
  "language_info": {
   "codemirror_mode": {
    "name": "ipython",
    "version": 3
   },
   "file_extension": ".py",
   "mimetype": "text/x-python",
   "name": "python",
   "nbconvert_exporter": "python",
   "pygments_lexer": "ipython3",
   "version": "3.5.3"
  }
 },
 "nbformat": 4,
 "nbformat_minor": 2
}
