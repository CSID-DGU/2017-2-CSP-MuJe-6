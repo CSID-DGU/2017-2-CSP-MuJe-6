{
 "cells": [
  {
   "cell_type": "markdown",
   "metadata": {},
   "source": [
    "# OpenCV GUI 기능 활용 - 영상"
   ]
  },
  {
   "cell_type": "code",
   "execution_count": 3,
   "metadata": {
    "collapsed": true
   },
   "outputs": [],
   "source": [
    "import numpy as np\n",
    "import cv2"
   ]
  },
  {
   "cell_type": "markdown",
   "metadata": {},
   "source": [
    "### 영상처리 기본\n",
    "영상 캡쳐 객체 선언 cv2.VideoCapture을 꼭 해야함<br>\n",
    "패러미터로는 처리할 영상 디렉토리, 또는 기기에 연결된 카메라로 받을지 결정가능 (카메라 연결이 하나인 경우 0 또는 -1, 그 외의 경우 다른 수)"
   ]
  },
  {
   "cell_type": "code",
   "execution_count": 16,
   "metadata": {},
   "outputs": [],
   "source": [
    "cap = cv2.VideoCapture(0)\n",
    "\n",
    "while(True):\n",
    "    ret , frame = cap.read() # 영상을 프레임으로 모두 캡쳐\n",
    "    \n",
    "    gray = cv2.cvtColor(frame, cv2.COLOR_BGR2GRAY) # 프레임에 대한 작업은 요기에\n",
    "    \n",
    "    cv2.imshow('frame', gray)\n",
    "    if cv2.waitKey(1) == ord('q'): # 이런 식으로 종료키를 설정할 수 있음, 64비트 컴퓨터의 경우 가끔 cv2.waitKey(1) & 0xFF == ord('q') 처럼 해야하는 경우도 있음\n",
    "        break\n",
    "\n",
    "cv2.destroyAllWindows()\n",
    "cap.release() # cap은 항상 사용한 후 relase!!!"
   ]
  },
  {
   "cell_type": "markdown",
   "metadata": {
    "collapsed": true
   },
   "source": [
    "### 영상 처리시 유용한 함수들\n",
    "cap = cv2.VideoCapture()이라고 선언 후,\n",
    "\n",
    " - cap.isOpened() - 캡쳐의 초기화 여부 (True 이어야함) \n",
    " - cap.open() - 위 함수가 False인 경우 열어야함\n",
    " - cap.get(propld) - 프레임의 유용한 특성을 18가지 볼 수 있음, 패러미터로 prolpld = 1~18 하나를 넘겨주면 됨\n",
    " <br>\n",
    " 예를 들어 cap.get(3)은 영상 넓이, cap,get(4)는 영상 높이 등을 받음\n",
    " <br><br>\n",
    " 특성에 대한 자세한 설명은:\n",
    " http://docs.opencv.org/2.4/modules/highgui/doc/reading_and_writing_images_and_video.html#videocapture-get\n",
    " "
   ]
  },
  {
   "cell_type": "code",
   "execution_count": 17,
   "metadata": {},
   "outputs": [
    {
     "data": {
      "text/plain": [
       "False"
      ]
     },
     "execution_count": 17,
     "metadata": {},
     "output_type": "execute_result"
    }
   ],
   "source": [
    "cap.isOpened()"
   ]
  },
  {
   "cell_type": "code",
   "execution_count": 21,
   "metadata": {},
   "outputs": [
    {
     "data": {
      "text/plain": [
       "True"
      ]
     },
     "execution_count": 21,
     "metadata": {},
     "output_type": "execute_result"
    }
   ],
   "source": [
    "# 이거하면 웹컴 켜짐 흐익\n",
    "cap.open(0)"
   ]
  },
  {
   "cell_type": "code",
   "execution_count": 27,
   "metadata": {},
   "outputs": [
    {
     "data": {
      "text/plain": [
       "640.0"
      ]
     },
     "execution_count": 27,
     "metadata": {},
     "output_type": "execute_result"
    }
   ],
   "source": [
    "cap.get(3)"
   ]
  },
  {
   "cell_type": "markdown",
   "metadata": {},
   "source": [
    "### 기본 함수를 통한 해상도 변경\n",
    "cap.get에서 받은 특성들을 그대로 cap.set을 응용해 영상 높이 넓이를 설정할 수도 있음"
   ]
  },
  {
   "cell_type": "code",
   "execution_count": 40,
   "metadata": {
    "collapsed": true
   },
   "outputs": [],
   "source": [
    "cap = cv2.VideoCapture(0)\n",
    "\n",
    "while(True):\n",
    "    ret , frame = cap.read() # 영상을 프레임으로 모두 캡쳐\n",
    "    \n",
    "    # 해상도롤 320 x 240으로\n",
    "    ret = cap.set(3, 320)\n",
    "    ret = cap.set(4, 240)\n",
    "    \n",
    "    gray = cv2.cvtColor(frame, cv2.COLOR_BGR2GRAY) # 프레임에 대한 작업은 요기에\n",
    "    \n",
    "    cv2.imshow('frame', gray)\n",
    "    if cv2.waitKey(1) == ord('q'): # 이런 식으로 종료키를 설정할 수 있음, 64비트 컴퓨터의 경우 가끔 cv2.waitKey(1) & 0xFF == ord('q') 처럼 해야하는 경우도 있음\n",
    "        break\n",
    "\n",
    "cv2.destroyAllWindows()\n",
    "cap.release() # cap은 항상 사용한 후 relase!!!"
   ]
  },
  {
   "cell_type": "markdown",
   "metadata": {},
   "source": [
    "### 영상 저장\n",
    "- cv2.VideoWriter 객체를 선언해서 영상을 기록할 수 있음\n",
    "<br>\n",
    "- 객체 선언시 비디오코덱을 명시해서 패러미터로 줘야하는데, cv2.VideoWriter_fourcc(*'XVID') 와 같이 명시하면 됨\n",
    "<br>\n",
    "- 저기서 패러미터 'XVID'는 비디오 코덱을 명시하는 것이며, http://fourcc.org 에서 자세한 목록을 볼 수 있음"
   ]
  },
  {
   "cell_type": "code",
   "execution_count": null,
   "metadata": {
    "collapsed": true
   },
   "outputs": [],
   "source": [
    "밑에 예제는 웹캠에서 피드를 받아 이미지를 뒤집은 후 저장"
   ]
  },
  {
   "cell_type": "code",
   "execution_count": 41,
   "metadata": {
    "collapsed": true
   },
   "outputs": [],
   "source": [
    "cap = cv2.VideoCapture(0)\n",
    "\n",
    "# 영상 저장 객체\n",
    "fourcc = cv2.VideoWriter_fourcc(*'XVID')\n",
    "out = cv2.VideoWriter('output.avi',fourcc, 20.0, (640,480))\n",
    "\n",
    "while(cap.isOpened()): # 이런식으로 캡이 열렸는지 확인후 진행하기\n",
    "    ret, frame = cap.read()\n",
    "    if ret==True:\n",
    "        frame = cv2.flip(frame,0)\n",
    "\n",
    "        # \n",
    "        out.write(frame)\n",
    "\n",
    "        cv2.imshow('frame',frame)\n",
    "        if cv2.waitKey(1) & 0xFF == ord('q'):\n",
    "            break\n",
    "    else:\n",
    "        break\n",
    "\n",
    "# Release everything if job is finished\n",
    "cap.release()\n",
    "out.release()"
   ]
  },
  {
   "cell_type": "code",
   "execution_count": null,
   "metadata": {
    "collapsed": true
   },
   "outputs": [],
   "source": []
  }
 ],
 "metadata": {
  "kernelspec": {
   "display_name": "Python 3",
   "language": "python",
   "name": "python3"
  },
  "language_info": {
   "codemirror_mode": {
    "name": "ipython",
    "version": 3
   },
   "file_extension": ".py",
   "mimetype": "text/x-python",
   "name": "python",
   "nbconvert_exporter": "python",
   "pygments_lexer": "ipython3",
   "version": "3.6.2"
  }
 },
 "nbformat": 4,
 "nbformat_minor": 2
}
