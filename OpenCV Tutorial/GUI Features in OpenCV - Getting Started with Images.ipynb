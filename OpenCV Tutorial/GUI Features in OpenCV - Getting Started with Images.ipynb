{
 "cells": [
  {
   "cell_type": "markdown",
   "metadata": {},
   "source": [
    "# OpenCV GUI 기능 활용"
   ]
  },
  {
   "cell_type": "code",
   "execution_count": 2,
   "metadata": {
    "collapsed": true
   },
   "outputs": [],
   "source": [
    "import cv2\n",
    "import numpy as np"
   ]
  },
  {
   "cell_type": "markdown",
   "metadata": {},
   "source": [
    "이미지 읽기 - 이미지 파일명이 잘못됬을때도 객체가 생성되므로 항상 type 확인하기! 안읽히는 경우 NoneType으로 나옴"
   ]
  },
  {
   "cell_type": "code",
   "execution_count": 28,
   "metadata": {},
   "outputs": [
    {
     "name": "stdout",
     "output_type": "stream",
     "text": [
      "<class 'numpy.ndarray'>\n",
      "<class 'NoneType'>\n"
     ]
    }
   ],
   "source": [
    "img = cv2.imread('messi.jpg', 0)\n",
    "img2 = cv2.imread('없는 이미지.jpg', 0)\n",
    "\n",
    "print(type(img))\n",
    "print(type(img2))\n",
    "\n",
    "del img, img2"
   ]
  },
  {
   "cell_type": "markdown",
   "metadata": {},
   "source": [
    "cv2.waitkey - 패러미터는 윈도우가 꺼질때까지 시간, 0인 경우 키를 누를때까지 계속 기다림\n",
    "\n",
    "cv2.destroyAllWindows - 패러미터가 없는 경우 만든 모든 윈도우 닫기. 패러미터로 윈도우 이름을 전달하면 해당 윈도우 닫음"
   ]
  },
  {
   "cell_type": "code",
   "execution_count": 23,
   "metadata": {},
   "outputs": [
    {
     "data": {
      "text/plain": [
       "1080"
      ]
     },
     "execution_count": 23,
     "metadata": {},
     "output_type": "execute_result"
    }
   ],
   "source": [
    "cv2.imshow('image',img)\n",
    "cv2.waitKey(0)\n",
    "cv2.destroyAllWindows()"
   ]
  },
  {
   "cell_type": "markdown",
   "metadata": {},
   "source": [
    "cv2.namedWindow - imgshow 윈도우를 먼저 열고 이미지를 나중에 로딩해서 보여줄 수 있음<br>\n",
    "<br>\n",
    "모든 윈도우의 사이즈는 autosize로 되있음 (cv2.WINDOW_AUTOSIZE), 수동으로 사이즈 수정하고 싶으면 패러미터로 (cv2.WINDOW_NORMAL)"
   ]
  },
  {
   "cell_type": "code",
   "execution_count": 29,
   "metadata": {
    "collapsed": true
   },
   "outputs": [],
   "source": [
    "cv2.namedWindow('image', cv2.WINDOW_NORMAL)\n",
    "cv2.imshow('image',img)\n",
    "cv2.waitKey(0)\n",
    "cv2.destroyAllWindows()"
   ]
  },
  {
   "cell_type": "markdown",
   "metadata": {},
   "source": [
    "cv2.imwrite - 이미지를 저장할 수 있음<br>\n",
    "밑에 이미지는 예시시 코드로, 이미지를 읽어 들여서 ESC를 누를 경우 (ASCII로 27) 윈도우 종료.<br>\n",
    "cv2.waitekey는 keylistener 같은 역할을 하는듯?<br><br>\n",
    "참고: 파이썬에서 ord(char) 하면 char의 ASCII 값을 알랴줌"
   ]
  },
  {
   "cell_type": "code",
   "execution_count": null,
   "metadata": {
    "collapsed": true
   },
   "outputs": [],
   "source": [
    "img = cv2.imread('messi5.jpg',0)\n",
    "cv2.imshow('image',img)\n",
    "k = cv2.waitKey(0)\n",
    "if k == 27:         # wait for ESC key to exit\n",
    "    cv2.destroyAllWindows()\n",
    "elif k == ord('s'): # wait for 's' key to save and exit\n",
    "    cv2.imwrite('messigray.png',img)\n",
    "    cv2.destroyAllWindows()"
   ]
  }
 ],
 "metadata": {
  "kernelspec": {
   "display_name": "Python 3",
   "language": "python",
   "name": "python3"
  },
  "language_info": {
   "codemirror_mode": {
    "name": "ipython",
    "version": 3
   },
   "file_extension": ".py",
   "mimetype": "text/x-python",
   "name": "python",
   "nbconvert_exporter": "python",
   "pygments_lexer": "ipython3",
   "version": "3.6.2"
  }
 },
 "nbformat": 4,
 "nbformat_minor": 2
}
